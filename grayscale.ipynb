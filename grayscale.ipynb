{
 "cells": [
  {
   "cell_type": "code",
   "execution_count": 1,
   "source": [
    "import matplotlib.pyplot as plt\n",
    "import numpy as np\n",
    "import os\n",
    "import PIL\n",
    "import tensorflow as tf\n",
    "\n",
    "from tensorflow import keras\n",
    "from tensorflow.keras import layers\n",
    "from tensorflow.keras.models import Sequential\n",
    "\n",
    "from PIL import Image"
   ],
   "outputs": [],
   "metadata": {}
  },
  {
   "cell_type": "code",
   "execution_count": 2,
   "source": [
    "import pathlib\n",
    "\n",
    "data_dir = pathlib.Path(\"Data/\")\n",
    "image_count = len(list(data_dir.glob('*/*.jpg')))\n",
    "print(image_count)"
   ],
   "outputs": [
    {
     "output_type": "stream",
     "name": "stdout",
     "text": [
      "30680\n"
     ]
    }
   ],
   "metadata": {}
  },
  {
   "cell_type": "code",
   "execution_count": 13,
   "source": [
    "# iterate through the names of contents of the folder\n",
    "area = \"inazuma_city\"\n",
    "img_folder = \"Data/\" + area + \"/\"\n",
    "grayscale_folder = \"Data/\" + area + \"_grayscale/\"\n",
    "\n",
    "for image_path in os.listdir(img_folder):\n",
    "    img = Image.open(img_folder+image_path).convert('L')\n",
    "    path = grayscale_folder + image_path\n",
    "    img.save(path)\n"
   ],
   "outputs": [],
   "metadata": {}
  }
 ],
 "metadata": {
  "orig_nbformat": 4,
  "language_info": {
   "name": "python",
   "version": "3.7.4",
   "mimetype": "text/x-python",
   "codemirror_mode": {
    "name": "ipython",
    "version": 3
   },
   "pygments_lexer": "ipython3",
   "nbconvert_exporter": "python",
   "file_extension": ".py"
  },
  "kernelspec": {
   "name": "python3",
   "display_name": "Python 3.7.4 64-bit ('base': conda)"
  },
  "interpreter": {
   "hash": "699d9c2df8f8aa8dbbe56eeac997fad3a483fc2492ec5250f6fd1522a51645e4"
  }
 },
 "nbformat": 4,
 "nbformat_minor": 2
}